{
 "cells": [
  {
   "cell_type": "markdown",
   "id": "21923105-cc89-45b4-92ef-24b360aaaaaa",
   "metadata": {},
   "source": [
    "# import\n",
    "\n",
    "import matplotlib.pyplot as plt\n",
    "import pandas as pd\n",
    "from sklearn import linear_model\n",
    "from sklearn.metrics import mean_squared_error, r2_score\n",
    "\n",
    "# check data\n",
    "\n",
    "df = pd.read_csv(\"../data/input/diabetes.csv\")\n",
    "\n",
    "df.head()\n",
    "\n",
    "df.shape\n",
    "\n",
    "df.info()\n",
    "\n",
    "df.describe()\n",
    "\n",
    "# preprocessing\n",
    "\n",
    "y = df[\"Y\"].values.reshape(-1, 1)\n",
    "\n",
    "x = df[\"BMI\"].values.reshape(-1, 1)\n",
    "\n",
    "x.shape\n",
    "\n",
    "train_x, train_y, test_x, test_y = (\n",
    "    x[:-20],\n",
    "    y[:-20],\n",
    "    x[-20:],\n",
    "    y[-20:],\n",
    ")\n",
    "\n",
    "model = linear_model.LinearRegression()\n",
    "\n",
    "model.fit(train_x, train_y)\n",
    "\n",
    "y_pred = model.predict(test_x)\n",
    "\n",
    "mse = mean_squared_error(test_y, y_pred)\n",
    "\n",
    "mse\n",
    "\n",
    "r2_score(test_y, y_pred)\n",
    "\n",
    "plt.scatter(test_x, test_y, marker=\"o\")\n",
    "plt.plot(test_x, y_pred, linestyle=\"dashdot\", marker=\"o\")\n",
    "plt.show()\n",
    "\n",
    "\n",
    "\n"
   ]
  }
 ],
 "metadata": {
  "kernelspec": {
   "display_name": "Python 3 (ipykernel)",
   "language": "python",
   "name": "python3"
  },
  "language_info": {
   "codemirror_mode": {
    "name": "ipython",
    "version": 3
   },
   "file_extension": ".py",
   "mimetype": "text/x-python",
   "name": "python",
   "nbconvert_exporter": "python",
   "pygments_lexer": "ipython3",
   "version": "3.10.6"
  },
  "toc-autonumbering": true,
  "toc-showmarkdowntxt": true
 },
 "nbformat": 4,
 "nbformat_minor": 5
}
